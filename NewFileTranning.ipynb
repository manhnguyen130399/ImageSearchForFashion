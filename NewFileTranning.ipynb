{
  "nbformat": 4,
  "nbformat_minor": 0,
  "metadata": {
    "colab": {
      "name": "NewFileTranning.ipynb",
      "provenance": [],
      "collapsed_sections": []
    },
    "kernelspec": {
      "name": "python3",
      "display_name": "Python 3"
    },
    "language_info": {
      "name": "python"
    },
    "accelerator": "GPU"
  },
  "cells": [
    {
      "cell_type": "code",
      "metadata": {
        "id": "3yz1eHk0WaR8"
      },
      "source": [
        "import numpy as np\n",
        "import pandas as pd\n",
        "from sklearn.model_selection import train_test_split\n",
        "from sklearn.metrics import classification_report\n",
        "from tensorflow.python import keras\n",
        "from tensorflow.python.keras.models import Sequential\n",
        "from tensorflow.python.keras.layers import Dense, Flatten, Conv2D, Dropout, MaxPooling2D\n",
        "from IPython.display import SVG\n",
        "from keras.utils.vis_utils import model_to_dot\n",
        "import seaborn as sns\n",
        "import matplotlib.pyplot as plt\n",
        "%matplotlib inline \n",
        "import plotly.graph_objs as go\n",
        "import plotly.figure_factory as ff\n",
        "from plotly import tools\n",
        "from plotly.offline import download_plotlyjs, init_notebook_mode, plot, iplot"
      ],
      "execution_count": 17,
      "outputs": []
    },
    {
      "cell_type": "code",
      "metadata": {
        "id": "VptjL-w2WlTB"
      },
      "source": [
        "IMG_ROWS = 28\n",
        "IMG_COLS = 28\n",
        "NUM_CLASSES = 10\n",
        "TEST_SIZE = 0.2\n",
        "RANDOM_STATE = 2018\n",
        "#Model\n",
        "NO_EPOCHS = 100\n",
        "BATCH_SIZE = 128"
      ],
      "execution_count": 18,
      "outputs": []
    },
    {
      "cell_type": "code",
      "metadata": {
        "id": "Mi0XZwZCWwI8"
      },
      "source": [
        "dataset_test = pd.read_csv('/content/drive/MyDrive/Datasets/dataset_test.csv')\n",
        "dataset_train = pd.read_csv( '/content/drive/MyDrive/Datasets/dataset_train_final.csv')"
      ],
      "execution_count": 19,
      "outputs": []
    },
    {
      "cell_type": "code",
      "metadata": {
        "colab": {
          "base_uri": "https://localhost:8080/"
        },
        "id": "TPmYLxBvXFna",
        "outputId": "82977897-b576-4d0e-8640-628ba8ecc98b"
      },
      "source": [
        "y_train = dataset_train[\"label\"]\n",
        "y_train = y_train.to_numpy()\n",
        "y_train = y_train.astype(int)\n",
        "y_train"
      ],
      "execution_count": 20,
      "outputs": [
        {
          "output_type": "execute_result",
          "data": {
            "text/plain": [
              "array([2, 9, 6, ..., 3, 3, 3])"
            ]
          },
          "metadata": {
            "tags": []
          },
          "execution_count": 20
        }
      ]
    },
    {
      "cell_type": "code",
      "metadata": {
        "colab": {
          "base_uri": "https://localhost:8080/"
        },
        "id": "7sNmgmH2XGp6",
        "outputId": "96939ce8-94cb-42d5-e180-c7099967984e"
      },
      "source": [
        "x_train = dataset_train.drop('label', axis=1)\n",
        "x_train = x_train.to_numpy()\n",
        "x_train = np.array(x_train,dtype=np.uint8)\n",
        "x_train"
      ],
      "execution_count": 21,
      "outputs": [
        {
          "output_type": "execute_result",
          "data": {
            "text/plain": [
              "array([[0, 0, 0, ..., 0, 0, 0],\n",
              "       [0, 0, 0, ..., 0, 0, 0],\n",
              "       [0, 0, 0, ..., 0, 0, 0],\n",
              "       ...,\n",
              "       [0, 0, 0, ..., 0, 0, 0],\n",
              "       [0, 0, 0, ..., 0, 0, 0],\n",
              "       [0, 0, 0, ..., 0, 0, 0]], dtype=uint8)"
            ]
          },
          "metadata": {
            "tags": []
          },
          "execution_count": 21
        }
      ]
    },
    {
      "cell_type": "code",
      "metadata": {
        "colab": {
          "base_uri": "https://localhost:8080/"
        },
        "id": "oVkHkis9XO9e",
        "outputId": "81874f40-4ddd-40f5-9bbc-a9e29cc554a8"
      },
      "source": [
        "y_train = dataset_train[\"label\"]\n",
        "y_train = y_train.to_numpy()\n",
        "y_train = y_train.astype(int)\n",
        "y_train"
      ],
      "execution_count": 22,
      "outputs": [
        {
          "output_type": "execute_result",
          "data": {
            "text/plain": [
              "array([2, 9, 6, ..., 3, 3, 3])"
            ]
          },
          "metadata": {
            "tags": []
          },
          "execution_count": 22
        }
      ]
    },
    {
      "cell_type": "code",
      "metadata": {
        "id": "3_Z6gh1fXVW-"
      },
      "source": [
        "y_test = dataset_test[\"label\"]\n",
        "y_test = y_test.to_numpy()\n",
        "y_test = np.array(y_test,dtype=np.uint8)\n",
        "y_test = y_test.astype(int)"
      ],
      "execution_count": 23,
      "outputs": []
    },
    {
      "cell_type": "code",
      "metadata": {
        "colab": {
          "base_uri": "https://localhost:8080/"
        },
        "id": "qU7FDXDHXZBp",
        "outputId": "27b1ad28-47a4-4300-e819-c0044db2c802"
      },
      "source": [
        "x_test = dataset_test.drop('label',1)\n",
        "x_test = x_test.to_numpy()\n",
        "x_test = np.array(x_test, dtype= np.uint8)\n",
        "x_test"
      ],
      "execution_count": 24,
      "outputs": [
        {
          "output_type": "execute_result",
          "data": {
            "text/plain": [
              "array([[0, 0, 0, ..., 0, 0, 0],\n",
              "       [0, 0, 0, ..., 0, 0, 0],\n",
              "       [0, 0, 0, ..., 0, 0, 0],\n",
              "       ...,\n",
              "       [0, 0, 0, ..., 0, 0, 0],\n",
              "       [0, 0, 0, ..., 0, 0, 0],\n",
              "       [0, 0, 0, ..., 0, 0, 0]], dtype=uint8)"
            ]
          },
          "metadata": {
            "tags": []
          },
          "execution_count": 24
        }
      ]
    },
    {
      "cell_type": "code",
      "metadata": {
        "id": "CcJl0komXeay",
        "colab": {
          "base_uri": "https://localhost:8080/"
        },
        "outputId": "39802aad-829e-4190-c25f-4bcc85d9f6a2"
      },
      "source": [
        "class_names = ['T-shirt','Trouser',' Pullover','Dress', 'Coat'\n",
        ", 'Sandal', 'Shirt', 'Sneaker', 'Bag', 'Ankle Boot','Lips','Eyewear'\n",
        ",'Nails','Headewear', 'FlipLops', 'Ties']\n",
        "class_names"
      ],
      "execution_count": 25,
      "outputs": [
        {
          "output_type": "execute_result",
          "data": {
            "text/plain": [
              "['T-shirt',\n",
              " 'Trouser',\n",
              " ' Pullover',\n",
              " 'Dress',\n",
              " 'Coat',\n",
              " 'Sandal',\n",
              " 'Shirt',\n",
              " 'Sneaker',\n",
              " 'Bag',\n",
              " 'Ankle Boot',\n",
              " 'Lips',\n",
              " 'Eyewear',\n",
              " 'Nails',\n",
              " 'Headewear',\n",
              " 'FlipLops',\n",
              " 'Ties']"
            ]
          },
          "metadata": {
            "tags": []
          },
          "execution_count": 25
        }
      ]
    },
    {
      "cell_type": "code",
      "metadata": {
        "colab": {
          "base_uri": "https://localhost:8080/"
        },
        "id": "auiiI0YLXjWM",
        "outputId": "44455445-82a7-4dfd-af9c-bf4105f963f0"
      },
      "source": [
        "#model cần thêm 1 chiều cho image\n",
        "from keras.utils.all_utils import to_categorical\n",
        "x_train = x_train.reshape(len(x_train),28,28,1)\n",
        "x_test = x_test.reshape(len(x_test),28,28,1)\n",
        "#one hot cho output\n",
        "y_train = to_categorical(y_train)\n",
        "y_test = to_categorical(y_test)\n",
        "y_test[1000]"
      ],
      "execution_count": 26,
      "outputs": [
        {
          "output_type": "execute_result",
          "data": {
            "text/plain": [
              "array([0., 0., 1., 0., 0., 0., 0., 0., 0., 0., 0., 0., 0., 0., 0., 0.],\n",
              "      dtype=float32)"
            ]
          },
          "metadata": {
            "tags": []
          },
          "execution_count": 26
        }
      ]
    },
    {
      "cell_type": "code",
      "metadata": {
        "id": "Qg3hC3jKXoRb"
      },
      "source": [
        "model = Sequential()\n",
        "# Add convolution 2D\n",
        "model.add(Conv2D(32, kernel_size=(3, 3),\n",
        "                 activation='relu',\n",
        "                 padding='same',\n",
        "                 input_shape=(28,28, 1)))\n",
        "model.add(MaxPooling2D((2, 2)))\n",
        "# Add dropouts to the model\n",
        "model.add(Dropout(0.25))\n",
        "model.add(Conv2D(64, \n",
        "                 kernel_size=(3, 3), \n",
        "                 activation='relu'))\n",
        "model.add(MaxPooling2D(pool_size=(2, 2)))\n",
        "# Add dropouts to the model\n",
        "model.add(Dropout(0.25))\n",
        "model.add(Conv2D(128, (3, 3), activation='relu'))\n",
        "# Add dropouts to the model\n",
        "model.add(Dropout(0.4))\n",
        "model.add(Flatten())\n",
        "model.add(Dense(128, activation='relu'))\n",
        "# Add dropouts to the model\n",
        "model.add(Dropout(0.3))\n",
        "model.add(Dense(16, activation='softmax'))\n",
        "\n",
        "\n",
        "model.compile(loss='categorical_crossentropy',\n",
        "              optimizer='adam',\n",
        "              metrics=['accuracy'])"
      ],
      "execution_count": 27,
      "outputs": []
    },
    {
      "cell_type": "code",
      "metadata": {
        "colab": {
          "base_uri": "https://localhost:8080/"
        },
        "id": "tlJlcV9zXu2E",
        "outputId": "7a68bd34-402d-4cb0-ee6e-ba44c80e0a0a"
      },
      "source": [
        "train_model = model.fit(x_train, y_train,\n",
        "                  batch_size=BATCH_SIZE,\n",
        "                  epochs=NO_EPOCHS,\n",
        "                  verbose=1,\n",
        "                  validation_data=(x_test, y_test))"
      ],
      "execution_count": 28,
      "outputs": [
        {
          "output_type": "stream",
          "text": [
            "Epoch 1/100\n",
            "993/993 [==============================] - 7s 6ms/step - loss: 0.9882 - accuracy: 0.7043 - val_loss: 1.1026 - val_accuracy: 0.7032\n",
            "Epoch 2/100\n",
            "993/993 [==============================] - 6s 6ms/step - loss: 0.4896 - accuracy: 0.8257 - val_loss: 1.2378 - val_accuracy: 0.7220\n",
            "Epoch 3/100\n",
            "993/993 [==============================] - 6s 6ms/step - loss: 0.4136 - accuracy: 0.8541 - val_loss: 1.1576 - val_accuracy: 0.7439\n",
            "Epoch 4/100\n",
            "993/993 [==============================] - 6s 6ms/step - loss: 0.3758 - accuracy: 0.8662 - val_loss: 0.9885 - val_accuracy: 0.7490\n",
            "Epoch 5/100\n",
            "993/993 [==============================] - 6s 6ms/step - loss: 0.3549 - accuracy: 0.8745 - val_loss: 1.1567 - val_accuracy: 0.7535\n",
            "Epoch 6/100\n",
            "993/993 [==============================] - 6s 6ms/step - loss: 0.3377 - accuracy: 0.8792 - val_loss: 1.3987 - val_accuracy: 0.7470\n",
            "Epoch 7/100\n",
            "993/993 [==============================] - 6s 6ms/step - loss: 0.3264 - accuracy: 0.8840 - val_loss: 1.2825 - val_accuracy: 0.7443\n",
            "Epoch 8/100\n",
            "993/993 [==============================] - 6s 6ms/step - loss: 0.3148 - accuracy: 0.8868 - val_loss: 1.1825 - val_accuracy: 0.7498\n",
            "Epoch 9/100\n",
            "993/993 [==============================] - 6s 6ms/step - loss: 0.3083 - accuracy: 0.8890 - val_loss: 1.4243 - val_accuracy: 0.7538\n",
            "Epoch 10/100\n",
            "993/993 [==============================] - 6s 6ms/step - loss: 0.3031 - accuracy: 0.8906 - val_loss: 1.0285 - val_accuracy: 0.7756\n",
            "Epoch 11/100\n",
            "993/993 [==============================] - 6s 6ms/step - loss: 0.2933 - accuracy: 0.8942 - val_loss: 1.2384 - val_accuracy: 0.7600\n",
            "Epoch 12/100\n",
            "993/993 [==============================] - 6s 6ms/step - loss: 0.2910 - accuracy: 0.8949 - val_loss: 1.1416 - val_accuracy: 0.7583\n",
            "Epoch 13/100\n",
            "993/993 [==============================] - 6s 6ms/step - loss: 0.2866 - accuracy: 0.8964 - val_loss: 1.0468 - val_accuracy: 0.7731\n",
            "Epoch 14/100\n",
            "993/993 [==============================] - 6s 6ms/step - loss: 0.2861 - accuracy: 0.8964 - val_loss: 1.0224 - val_accuracy: 0.7624\n",
            "Epoch 15/100\n",
            "993/993 [==============================] - 6s 6ms/step - loss: 0.2764 - accuracy: 0.8991 - val_loss: 1.1862 - val_accuracy: 0.7675\n",
            "Epoch 16/100\n",
            "993/993 [==============================] - 6s 6ms/step - loss: 0.2791 - accuracy: 0.8997 - val_loss: 1.0510 - val_accuracy: 0.7617\n",
            "Epoch 17/100\n",
            "993/993 [==============================] - 6s 6ms/step - loss: 0.2766 - accuracy: 0.9000 - val_loss: 1.0416 - val_accuracy: 0.7676\n",
            "Epoch 18/100\n",
            "993/993 [==============================] - 6s 6ms/step - loss: 0.2746 - accuracy: 0.9013 - val_loss: 1.1505 - val_accuracy: 0.7716\n",
            "Epoch 19/100\n",
            "993/993 [==============================] - 6s 6ms/step - loss: 0.2745 - accuracy: 0.9007 - val_loss: 1.0538 - val_accuracy: 0.7765\n",
            "Epoch 20/100\n",
            "993/993 [==============================] - 6s 6ms/step - loss: 0.2737 - accuracy: 0.9014 - val_loss: 1.2410 - val_accuracy: 0.7611\n",
            "Epoch 21/100\n",
            "993/993 [==============================] - 6s 6ms/step - loss: 0.2723 - accuracy: 0.9022 - val_loss: 1.3456 - val_accuracy: 0.7600\n",
            "Epoch 22/100\n",
            "993/993 [==============================] - 6s 6ms/step - loss: 0.2659 - accuracy: 0.9034 - val_loss: 1.2695 - val_accuracy: 0.7651\n",
            "Epoch 23/100\n",
            "993/993 [==============================] - 6s 6ms/step - loss: 0.2664 - accuracy: 0.9026 - val_loss: 1.1686 - val_accuracy: 0.7566\n",
            "Epoch 24/100\n",
            "993/993 [==============================] - 6s 6ms/step - loss: 0.2650 - accuracy: 0.9035 - val_loss: 1.1163 - val_accuracy: 0.7570\n",
            "Epoch 25/100\n",
            "993/993 [==============================] - 6s 6ms/step - loss: 0.2644 - accuracy: 0.9036 - val_loss: 1.6371 - val_accuracy: 0.7616\n",
            "Epoch 26/100\n",
            "993/993 [==============================] - 6s 6ms/step - loss: 0.2694 - accuracy: 0.9019 - val_loss: 1.4992 - val_accuracy: 0.7727\n",
            "Epoch 27/100\n",
            "993/993 [==============================] - 6s 6ms/step - loss: 0.2611 - accuracy: 0.9048 - val_loss: 2.1955 - val_accuracy: 0.7474\n",
            "Epoch 28/100\n",
            "993/993 [==============================] - 6s 6ms/step - loss: 0.2614 - accuracy: 0.9049 - val_loss: 1.5410 - val_accuracy: 0.7685\n",
            "Epoch 29/100\n",
            "993/993 [==============================] - 6s 6ms/step - loss: 0.2608 - accuracy: 0.9060 - val_loss: 1.5748 - val_accuracy: 0.7746\n",
            "Epoch 30/100\n",
            "993/993 [==============================] - 6s 6ms/step - loss: 0.2601 - accuracy: 0.9055 - val_loss: 1.7285 - val_accuracy: 0.7736\n",
            "Epoch 31/100\n",
            "993/993 [==============================] - 6s 6ms/step - loss: 0.2610 - accuracy: 0.9058 - val_loss: 1.1433 - val_accuracy: 0.7775\n",
            "Epoch 32/100\n",
            "993/993 [==============================] - 6s 6ms/step - loss: 0.2608 - accuracy: 0.9056 - val_loss: 1.4255 - val_accuracy: 0.7812\n",
            "Epoch 33/100\n",
            "993/993 [==============================] - 6s 6ms/step - loss: 0.2615 - accuracy: 0.9041 - val_loss: 1.2438 - val_accuracy: 0.7857\n",
            "Epoch 34/100\n",
            "993/993 [==============================] - 6s 6ms/step - loss: 0.2558 - accuracy: 0.9072 - val_loss: 1.6216 - val_accuracy: 0.7790\n",
            "Epoch 35/100\n",
            "993/993 [==============================] - 6s 6ms/step - loss: 0.2591 - accuracy: 0.9059 - val_loss: 1.5982 - val_accuracy: 0.7768\n",
            "Epoch 36/100\n",
            "993/993 [==============================] - 6s 6ms/step - loss: 0.2536 - accuracy: 0.9069 - val_loss: 1.6151 - val_accuracy: 0.7771\n",
            "Epoch 37/100\n",
            "993/993 [==============================] - 6s 6ms/step - loss: 0.2574 - accuracy: 0.9062 - val_loss: 1.4136 - val_accuracy: 0.7891\n",
            "Epoch 38/100\n",
            "993/993 [==============================] - 6s 6ms/step - loss: 0.2549 - accuracy: 0.9072 - val_loss: 1.5483 - val_accuracy: 0.7823\n",
            "Epoch 39/100\n",
            "993/993 [==============================] - 6s 6ms/step - loss: 0.2586 - accuracy: 0.9057 - val_loss: 1.9939 - val_accuracy: 0.7808\n",
            "Epoch 40/100\n",
            "993/993 [==============================] - 6s 6ms/step - loss: 0.2589 - accuracy: 0.9061 - val_loss: 1.1427 - val_accuracy: 0.7770\n",
            "Epoch 41/100\n",
            "993/993 [==============================] - 6s 6ms/step - loss: 0.2541 - accuracy: 0.9078 - val_loss: 1.4614 - val_accuracy: 0.7829\n",
            "Epoch 42/100\n",
            "993/993 [==============================] - 6s 6ms/step - loss: 0.2588 - accuracy: 0.9059 - val_loss: 1.3003 - val_accuracy: 0.7682\n",
            "Epoch 43/100\n",
            "993/993 [==============================] - 6s 6ms/step - loss: 0.2520 - accuracy: 0.9082 - val_loss: 1.4924 - val_accuracy: 0.7747\n",
            "Epoch 44/100\n",
            "993/993 [==============================] - 6s 6ms/step - loss: 0.2508 - accuracy: 0.9086 - val_loss: 1.3348 - val_accuracy: 0.7778\n",
            "Epoch 45/100\n",
            "993/993 [==============================] - 6s 6ms/step - loss: 0.2548 - accuracy: 0.9075 - val_loss: 1.4796 - val_accuracy: 0.7804\n",
            "Epoch 46/100\n",
            "993/993 [==============================] - 6s 6ms/step - loss: 0.2526 - accuracy: 0.9079 - val_loss: 1.1564 - val_accuracy: 0.7886\n",
            "Epoch 47/100\n",
            "993/993 [==============================] - 6s 6ms/step - loss: 0.2531 - accuracy: 0.9086 - val_loss: 1.4595 - val_accuracy: 0.7760\n",
            "Epoch 48/100\n",
            "993/993 [==============================] - 6s 6ms/step - loss: 0.2592 - accuracy: 0.9067 - val_loss: 1.3232 - val_accuracy: 0.7760\n",
            "Epoch 49/100\n",
            "993/993 [==============================] - 6s 6ms/step - loss: 0.2547 - accuracy: 0.9066 - val_loss: 1.3636 - val_accuracy: 0.7757\n",
            "Epoch 50/100\n",
            "993/993 [==============================] - 6s 6ms/step - loss: 0.2512 - accuracy: 0.9090 - val_loss: 1.2288 - val_accuracy: 0.7798\n",
            "Epoch 51/100\n",
            "993/993 [==============================] - 6s 6ms/step - loss: 0.2525 - accuracy: 0.9085 - val_loss: 1.4262 - val_accuracy: 0.7899\n",
            "Epoch 52/100\n",
            "993/993 [==============================] - 6s 6ms/step - loss: 0.2537 - accuracy: 0.9073 - val_loss: 1.5988 - val_accuracy: 0.7830\n",
            "Epoch 53/100\n",
            "993/993 [==============================] - 6s 6ms/step - loss: 0.2539 - accuracy: 0.9075 - val_loss: 1.5492 - val_accuracy: 0.7773\n",
            "Epoch 54/100\n",
            "993/993 [==============================] - 6s 6ms/step - loss: 0.2514 - accuracy: 0.9085 - val_loss: 1.4368 - val_accuracy: 0.7792\n",
            "Epoch 55/100\n",
            "993/993 [==============================] - 6s 6ms/step - loss: 0.2519 - accuracy: 0.9086 - val_loss: 1.7776 - val_accuracy: 0.7801\n",
            "Epoch 56/100\n",
            "993/993 [==============================] - 6s 6ms/step - loss: 0.2521 - accuracy: 0.9079 - val_loss: 1.6443 - val_accuracy: 0.7850\n",
            "Epoch 57/100\n",
            "993/993 [==============================] - 6s 6ms/step - loss: 0.2573 - accuracy: 0.9072 - val_loss: 1.9990 - val_accuracy: 0.7819\n",
            "Epoch 58/100\n",
            "993/993 [==============================] - 6s 6ms/step - loss: 0.2538 - accuracy: 0.9076 - val_loss: 2.0426 - val_accuracy: 0.7763\n",
            "Epoch 59/100\n",
            "993/993 [==============================] - 6s 6ms/step - loss: 0.2544 - accuracy: 0.9084 - val_loss: 1.7919 - val_accuracy: 0.7685\n",
            "Epoch 60/100\n",
            "993/993 [==============================] - 6s 6ms/step - loss: 0.2514 - accuracy: 0.9093 - val_loss: 1.8142 - val_accuracy: 0.7751\n",
            "Epoch 61/100\n",
            "993/993 [==============================] - 6s 6ms/step - loss: 0.2544 - accuracy: 0.9088 - val_loss: 1.7391 - val_accuracy: 0.7740\n",
            "Epoch 62/100\n",
            "993/993 [==============================] - 6s 6ms/step - loss: 0.2511 - accuracy: 0.9093 - val_loss: 1.3878 - val_accuracy: 0.7738\n",
            "Epoch 63/100\n",
            "993/993 [==============================] - 6s 6ms/step - loss: 0.2521 - accuracy: 0.9088 - val_loss: 1.2919 - val_accuracy: 0.7924\n",
            "Epoch 64/100\n",
            "993/993 [==============================] - 6s 6ms/step - loss: 0.2486 - accuracy: 0.9103 - val_loss: 1.5863 - val_accuracy: 0.7882\n",
            "Epoch 65/100\n",
            "993/993 [==============================] - 6s 6ms/step - loss: 0.2466 - accuracy: 0.9108 - val_loss: 1.6244 - val_accuracy: 0.7829\n",
            "Epoch 66/100\n",
            "993/993 [==============================] - 6s 6ms/step - loss: 0.2486 - accuracy: 0.9113 - val_loss: 1.8579 - val_accuracy: 0.7861\n",
            "Epoch 67/100\n",
            "993/993 [==============================] - 6s 6ms/step - loss: 0.2533 - accuracy: 0.9089 - val_loss: 1.7408 - val_accuracy: 0.7798\n",
            "Epoch 68/100\n",
            "993/993 [==============================] - 6s 6ms/step - loss: 0.2528 - accuracy: 0.9088 - val_loss: 2.0348 - val_accuracy: 0.7796\n",
            "Epoch 69/100\n",
            "993/993 [==============================] - 6s 6ms/step - loss: 0.2473 - accuracy: 0.9107 - val_loss: 1.8707 - val_accuracy: 0.7771\n",
            "Epoch 70/100\n",
            "993/993 [==============================] - 6s 6ms/step - loss: 0.2513 - accuracy: 0.9085 - val_loss: 2.0622 - val_accuracy: 0.7872\n",
            "Epoch 71/100\n",
            "993/993 [==============================] - 6s 6ms/step - loss: 0.2510 - accuracy: 0.9097 - val_loss: 1.5631 - val_accuracy: 0.7813\n",
            "Epoch 72/100\n",
            "993/993 [==============================] - 6s 6ms/step - loss: 0.2503 - accuracy: 0.9094 - val_loss: 2.1278 - val_accuracy: 0.7804\n",
            "Epoch 73/100\n",
            "993/993 [==============================] - 6s 6ms/step - loss: 0.2529 - accuracy: 0.9079 - val_loss: 1.3969 - val_accuracy: 0.7729\n",
            "Epoch 74/100\n",
            "993/993 [==============================] - 6s 6ms/step - loss: 0.2463 - accuracy: 0.9104 - val_loss: 1.4972 - val_accuracy: 0.7810\n",
            "Epoch 75/100\n",
            "993/993 [==============================] - 6s 6ms/step - loss: 0.2497 - accuracy: 0.9093 - val_loss: 1.6929 - val_accuracy: 0.7636\n",
            "Epoch 76/100\n",
            "993/993 [==============================] - 6s 6ms/step - loss: 0.2501 - accuracy: 0.9089 - val_loss: 1.6141 - val_accuracy: 0.7821\n",
            "Epoch 77/100\n",
            "993/993 [==============================] - 6s 6ms/step - loss: 0.2499 - accuracy: 0.9095 - val_loss: 1.6630 - val_accuracy: 0.7829\n",
            "Epoch 78/100\n",
            "993/993 [==============================] - 6s 6ms/step - loss: 0.2500 - accuracy: 0.9085 - val_loss: 1.7994 - val_accuracy: 0.7818\n",
            "Epoch 79/100\n",
            "993/993 [==============================] - 6s 6ms/step - loss: 0.2509 - accuracy: 0.9093 - val_loss: 1.5512 - val_accuracy: 0.7754\n",
            "Epoch 80/100\n",
            "993/993 [==============================] - 6s 6ms/step - loss: 0.2488 - accuracy: 0.9101 - val_loss: 1.3743 - val_accuracy: 0.7644\n",
            "Epoch 81/100\n",
            "993/993 [==============================] - 6s 6ms/step - loss: 0.2490 - accuracy: 0.9107 - val_loss: 1.6441 - val_accuracy: 0.7801\n",
            "Epoch 82/100\n",
            "993/993 [==============================] - 6s 6ms/step - loss: 0.2553 - accuracy: 0.9092 - val_loss: 1.7476 - val_accuracy: 0.7715\n",
            "Epoch 83/100\n",
            "993/993 [==============================] - 6s 6ms/step - loss: 0.2534 - accuracy: 0.9090 - val_loss: 1.4744 - val_accuracy: 0.7840\n",
            "Epoch 84/100\n",
            "993/993 [==============================] - 6s 6ms/step - loss: 0.2451 - accuracy: 0.9106 - val_loss: 1.3849 - val_accuracy: 0.7800\n",
            "Epoch 85/100\n",
            "993/993 [==============================] - 6s 6ms/step - loss: 0.2536 - accuracy: 0.9082 - val_loss: 1.6071 - val_accuracy: 0.7876\n",
            "Epoch 86/100\n",
            "993/993 [==============================] - 6s 6ms/step - loss: 0.2489 - accuracy: 0.9100 - val_loss: 1.6328 - val_accuracy: 0.7680\n",
            "Epoch 87/100\n",
            "993/993 [==============================] - 6s 6ms/step - loss: 0.2508 - accuracy: 0.9092 - val_loss: 1.8227 - val_accuracy: 0.7721\n",
            "Epoch 88/100\n",
            "993/993 [==============================] - 6s 6ms/step - loss: 0.2499 - accuracy: 0.9101 - val_loss: 1.7933 - val_accuracy: 0.7785\n",
            "Epoch 89/100\n",
            "993/993 [==============================] - 6s 6ms/step - loss: 0.2566 - accuracy: 0.9082 - val_loss: 1.6271 - val_accuracy: 0.7722\n",
            "Epoch 90/100\n",
            "993/993 [==============================] - 6s 6ms/step - loss: 0.2482 - accuracy: 0.9109 - val_loss: 1.8388 - val_accuracy: 0.7767\n",
            "Epoch 91/100\n",
            "993/993 [==============================] - 6s 6ms/step - loss: 0.2435 - accuracy: 0.9118 - val_loss: 1.4830 - val_accuracy: 0.7780\n",
            "Epoch 92/100\n",
            "993/993 [==============================] - 6s 6ms/step - loss: 0.2542 - accuracy: 0.9080 - val_loss: 1.4419 - val_accuracy: 0.7815\n",
            "Epoch 93/100\n",
            "993/993 [==============================] - 6s 6ms/step - loss: 0.2534 - accuracy: 0.9082 - val_loss: 1.6642 - val_accuracy: 0.7892\n",
            "Epoch 94/100\n",
            "993/993 [==============================] - 6s 6ms/step - loss: 0.2529 - accuracy: 0.9089 - val_loss: 1.4250 - val_accuracy: 0.7836\n",
            "Epoch 95/100\n",
            "993/993 [==============================] - 6s 6ms/step - loss: 0.2518 - accuracy: 0.9095 - val_loss: 1.8290 - val_accuracy: 0.7764\n",
            "Epoch 96/100\n",
            "993/993 [==============================] - 6s 6ms/step - loss: 0.2520 - accuracy: 0.9081 - val_loss: 1.6652 - val_accuracy: 0.7856\n",
            "Epoch 97/100\n",
            "993/993 [==============================] - 6s 6ms/step - loss: 0.2503 - accuracy: 0.9097 - val_loss: 2.1191 - val_accuracy: 0.7816\n",
            "Epoch 98/100\n",
            "993/993 [==============================] - 6s 6ms/step - loss: 0.2525 - accuracy: 0.9102 - val_loss: 2.4088 - val_accuracy: 0.7874\n",
            "Epoch 99/100\n",
            "993/993 [==============================] - 6s 6ms/step - loss: 0.2504 - accuracy: 0.9101 - val_loss: 1.9228 - val_accuracy: 0.7827\n",
            "Epoch 100/100\n",
            "993/993 [==============================] - 6s 6ms/step - loss: 0.2473 - accuracy: 0.9117 - val_loss: 2.1400 - val_accuracy: 0.7850\n"
          ],
          "name": "stdout"
        }
      ]
    },
    {
      "cell_type": "code",
      "metadata": {
        "id": "jvI7gE2aYKy6"
      },
      "source": [
        "model.save('fashion.h5')"
      ],
      "execution_count": 29,
      "outputs": []
    },
    {
      "cell_type": "code",
      "metadata": {
        "id": "nY99qM7WccVQ"
      },
      "source": [
        "def create_trace(x,y,ylabel,color):\n",
        "        trace = go.Scatter(\n",
        "            x = x,y = y,\n",
        "            name=ylabel,\n",
        "            marker=dict(color=color),\n",
        "            mode = \"markers+lines\",\n",
        "            text=x\n",
        "        )\n",
        "        return trace"
      ],
      "execution_count": 31,
      "outputs": []
    },
    {
      "cell_type": "code",
      "metadata": {
        "colab": {
          "base_uri": "https://localhost:8080/",
          "height": 613
        },
        "id": "ett4VT-yap8d",
        "outputId": "901a5f62-f034-455e-c3b7-f76e15e9cd72"
      },
      "source": [
        "def plot_accuracy_and_loss(train_model):\n",
        "    hist = train_model.history\n",
        "    acc = hist['accuracy']\n",
        "    val_acc = hist['val_accuracy']\n",
        "    loss = hist['loss']\n",
        "    val_loss = hist['val_loss']\n",
        "    epochs = list(range(1,len(acc)+1))\n",
        "    \n",
        "    trace_ta = create_trace(epochs,acc,\"Training accuracy\", \"Green\")\n",
        "    trace_va = create_trace(epochs,val_acc,\"Validation accuracy\", \"Red\")\n",
        "    trace_tl = create_trace(epochs,loss,\"Training loss\", \"Blue\")\n",
        "    trace_vl = create_trace(epochs,val_loss,\"Validation loss\", \"Magenta\")\n",
        "   \n",
        "    fig = tools.make_subplots(rows=1,cols=2, subplot_titles=('Training and validation accuracy',\n",
        "                                                             'Training and validation loss'))\n",
        "    fig.append_trace(trace_ta,1,1)\n",
        "    fig.append_trace(trace_va,1,1)\n",
        "    fig.append_trace(trace_tl,1,2)\n",
        "    fig.append_trace(trace_vl,1,2)\n",
        "    fig['layout']['xaxis'].update(title = 'Epoch')\n",
        "    fig['layout']['xaxis2'].update(title = 'Epoch')\n",
        "    fig['layout']['yaxis'].update(title = 'Accuracy', range=[0,1])\n",
        "    fig['layout']['yaxis2'].update(title = 'Loss', range=[0,1])\n",
        "\n",
        "    \n",
        "    iplot(fig, filename='accuracy-loss')\n",
        "\n",
        "plot_accuracy_and_loss(train_model)"
      ],
      "execution_count": 33,
      "outputs": [
        {
          "output_type": "stream",
          "text": [
            "/usr/local/lib/python3.7/dist-packages/plotly/tools.py:465: DeprecationWarning:\n",
            "\n",
            "plotly.tools.make_subplots is deprecated, please use plotly.subplots.make_subplots instead\n",
            "\n"
          ],
          "name": "stderr"
        },
        {
          "output_type": "display_data",
          "data": {
            "text/html": [
              "<html>\n",
              "<head><meta charset=\"utf-8\" /></head>\n",
              "<body>\n",
              "    <div>\n",
              "            <script src=\"https://cdnjs.cloudflare.com/ajax/libs/mathjax/2.7.5/MathJax.js?config=TeX-AMS-MML_SVG\"></script><script type=\"text/javascript\">if (window.MathJax) {MathJax.Hub.Config({SVG: {font: \"STIX-Web\"}});}</script>\n",
              "                <script type=\"text/javascript\">window.PlotlyConfig = {MathJaxConfig: 'local'};</script>\n",
              "        <script src=\"https://cdn.plot.ly/plotly-latest.min.js\"></script>    \n",
              "            <div id=\"1beebee4-2f4c-4930-85b9-249e001a8903\" class=\"plotly-graph-div\" style=\"height:525px; width:100%;\"></div>\n",
              "            <script type=\"text/javascript\">\n",
              "                \n",
              "                    window.PLOTLYENV=window.PLOTLYENV || {};\n",
              "                    \n",
              "                if (document.getElementById(\"1beebee4-2f4c-4930-85b9-249e001a8903\")) {\n",
              "                    Plotly.newPlot(\n",
              "                        '1beebee4-2f4c-4930-85b9-249e001a8903',\n",
              "                        [{\"marker\": {\"color\": \"Green\"}, \"mode\": \"markers+lines\", \"name\": \"Training accuracy\", \"text\": [\"1\", \"2\", \"3\", \"4\", \"5\", \"6\", \"7\", \"8\", \"9\", \"10\", \"11\", \"12\", \"13\", \"14\", \"15\", \"16\", \"17\", \"18\", \"19\", \"20\", \"21\", \"22\", \"23\", \"24\", \"25\", \"26\", \"27\", \"28\", \"29\", \"30\", \"31\", \"32\", \"33\", \"34\", \"35\", \"36\", \"37\", \"38\", \"39\", \"40\", \"41\", \"42\", \"43\", \"44\", \"45\", \"46\", \"47\", \"48\", \"49\", \"50\", \"51\", \"52\", \"53\", \"54\", \"55\", \"56\", \"57\", \"58\", \"59\", \"60\", \"61\", \"62\", \"63\", \"64\", \"65\", \"66\", \"67\", \"68\", \"69\", \"70\", \"71\", \"72\", \"73\", \"74\", \"75\", \"76\", \"77\", \"78\", \"79\", \"80\", \"81\", \"82\", \"83\", \"84\", \"85\", \"86\", \"87\", \"88\", \"89\", \"90\", \"91\", \"92\", \"93\", \"94\", \"95\", \"96\", \"97\", \"98\", \"99\", \"100\"], \"type\": \"scatter\", \"x\": [1, 2, 3, 4, 5, 6, 7, 8, 9, 10, 11, 12, 13, 14, 15, 16, 17, 18, 19, 20, 21, 22, 23, 24, 25, 26, 27, 28, 29, 30, 31, 32, 33, 34, 35, 36, 37, 38, 39, 40, 41, 42, 43, 44, 45, 46, 47, 48, 49, 50, 51, 52, 53, 54, 55, 56, 57, 58, 59, 60, 61, 62, 63, 64, 65, 66, 67, 68, 69, 70, 71, 72, 73, 74, 75, 76, 77, 78, 79, 80, 81, 82, 83, 84, 85, 86, 87, 88, 89, 90, 91, 92, 93, 94, 95, 96, 97, 98, 99, 100], \"xaxis\": \"x\", \"y\": [0.7043431997299194, 0.8256828784942627, 0.8540838956832886, 0.8662107586860657, 0.8744894862174988, 0.8791560530662537, 0.8840273022651672, 0.8868209719657898, 0.8890087008476257, 0.8906219005584717, 0.894186794757843, 0.8949344158172607, 0.8964374661445618, 0.8963509202003479, 0.8990659117698669, 0.8997111916542053, 0.9000416994094849, 0.9012929797172546, 0.9007027745246887, 0.9014109969139099, 0.902166485786438, 0.9034255743026733, 0.9026464819908142, 0.9034806489944458, 0.9035987257957458, 0.9018831849098206, 0.9048106074333191, 0.9048578143119812, 0.9059595465660095, 0.9054559469223022, 0.9057549834251404, 0.9055739641189575, 0.9041181206703186, 0.9071793556213379, 0.9058651328086853, 0.9069117903709412, 0.9061563014984131, 0.9072108268737793, 0.9056998491287231, 0.9060854911804199, 0.9078088998794556, 0.9059123396873474, 0.9082102179527283, 0.9086115956306458, 0.9075492024421692, 0.9079111814498901, 0.9085879921913147, 0.9067307710647583, 0.9066363573074341, 0.9090443849563599, 0.908501386642456, 0.9072895050048828, 0.9075492024421692, 0.9085250496864319, 0.9085879921913147, 0.9079269170761108, 0.9071872234344482, 0.9075728058815002, 0.9083597660064697, 0.9092726111412048, 0.90882408618927, 0.9092726111412048, 0.9087610840797424, 0.910327136516571, 0.910783588886261, 0.9112635850906372, 0.9088555574417114, 0.9087532162666321, 0.9106733798980713, 0.9085407853126526, 0.9097369313240051, 0.9094142913818359, 0.9079426527023315, 0.9104136824607849, 0.9092647433280945, 0.9088712930679321, 0.9094693660736084, 0.9085171222686768, 0.9092647433280945, 0.9101461172103882, 0.9106969833374023, 0.9091545939445496, 0.908957839012146, 0.9106340408325195, 0.9082180857658386, 0.9099808931350708, 0.9091545939445496, 0.9101225137710571, 0.9081630110740662, 0.9108701348304749, 0.911806583404541, 0.9080135226249695, 0.9082338213920593, 0.9088712930679321, 0.9095480442047119, 0.9080843329429626, 0.9096818566322327, 0.9101618528366089, 0.910075306892395, 0.9116649627685547], \"yaxis\": \"y\"}, {\"marker\": {\"color\": \"Red\"}, \"mode\": \"markers+lines\", \"name\": \"Validation accuracy\", \"text\": [\"1\", \"2\", \"3\", \"4\", \"5\", \"6\", \"7\", \"8\", \"9\", \"10\", \"11\", \"12\", \"13\", \"14\", \"15\", \"16\", \"17\", \"18\", \"19\", \"20\", \"21\", \"22\", \"23\", \"24\", \"25\", \"26\", \"27\", \"28\", \"29\", \"30\", \"31\", \"32\", \"33\", \"34\", \"35\", \"36\", \"37\", \"38\", \"39\", \"40\", \"41\", \"42\", \"43\", \"44\", \"45\", \"46\", \"47\", \"48\", \"49\", \"50\", \"51\", \"52\", \"53\", \"54\", \"55\", \"56\", \"57\", \"58\", \"59\", \"60\", \"61\", \"62\", \"63\", \"64\", \"65\", \"66\", \"67\", \"68\", \"69\", \"70\", \"71\", \"72\", \"73\", \"74\", \"75\", \"76\", \"77\", \"78\", \"79\", \"80\", \"81\", \"82\", \"83\", \"84\", \"85\", \"86\", \"87\", \"88\", \"89\", \"90\", \"91\", \"92\", \"93\", \"94\", \"95\", \"96\", \"97\", \"98\", \"99\", \"100\"], \"type\": \"scatter\", \"x\": [1, 2, 3, 4, 5, 6, 7, 8, 9, 10, 11, 12, 13, 14, 15, 16, 17, 18, 19, 20, 21, 22, 23, 24, 25, 26, 27, 28, 29, 30, 31, 32, 33, 34, 35, 36, 37, 38, 39, 40, 41, 42, 43, 44, 45, 46, 47, 48, 49, 50, 51, 52, 53, 54, 55, 56, 57, 58, 59, 60, 61, 62, 63, 64, 65, 66, 67, 68, 69, 70, 71, 72, 73, 74, 75, 76, 77, 78, 79, 80, 81, 82, 83, 84, 85, 86, 87, 88, 89, 90, 91, 92, 93, 94, 95, 96, 97, 98, 99, 100], \"xaxis\": \"x\", \"y\": [0.7032155990600586, 0.7219586372375488, 0.7438645958900452, 0.7489603757858276, 0.7534704208374023, 0.7469689249992371, 0.7443331480026245, 0.7497803568840027, 0.753821849822998, 0.775610625743866, 0.7600304484367371, 0.7583318948745728, 0.7730920314788818, 0.7624319195747375, 0.7674691081047058, 0.7617290616035461, 0.7676448225975037, 0.7716277241706848, 0.7764891982078552, 0.7610847353935242, 0.7599718570709229, 0.7651262283325195, 0.7565746903419495, 0.7569847106933594, 0.7615533471107483, 0.7726820111274719, 0.7474374771118164, 0.7685233950614929, 0.7745563387870789, 0.7735605835914612, 0.7774848937988281, 0.7811749577522278, 0.7857435941696167, 0.7790077924728394, 0.7767820358276367, 0.7771334648132324, 0.7890821695327759, 0.7823463678359985, 0.7807649374008179, 0.7769577503204346, 0.7828735709190369, 0.7681719660758972, 0.7746734619140625, 0.7778363227844238, 0.7804135084152222, 0.7886136174201965, 0.7760206460952759, 0.7759620547294617, 0.7756691575050354, 0.7798277735710144, 0.7899022102355957, 0.7829906940460205, 0.7772506475448608, 0.7791835069656372, 0.7801206707954407, 0.7849821448326111, 0.7819364070892334, 0.7762548923492432, 0.7685233950614929, 0.7751420140266418, 0.7739706039428711, 0.7737948894500732, 0.7923622131347656, 0.7882035970687866, 0.7829321026802063, 0.7860950231552124, 0.779769241809845, 0.7795935273170471, 0.7771334648132324, 0.7872079014778137, 0.7812920808792114, 0.780354917049408, 0.772916316986084, 0.7809992432594299, 0.7636033296585083, 0.7821121215820312, 0.7828735709190369, 0.7817606925964355, 0.7753763198852539, 0.7644233703613281, 0.7801206707954407, 0.771452009677887, 0.7840449810028076, 0.7800034880638123, 0.7875593304634094, 0.7679962515830994, 0.7720962762832642, 0.7784806489944458, 0.7722134590148926, 0.7766649127006531, 0.7779535055160522, 0.7814677953720093, 0.7891992926597595, 0.7836349606513977, 0.7763720750808716, 0.7855678796768188, 0.7816435098648071, 0.7873836159706116, 0.782697856426239, 0.7850407361984253], \"yaxis\": \"y\"}, {\"marker\": {\"color\": \"Blue\"}, \"mode\": \"markers+lines\", \"name\": \"Training loss\", \"text\": [\"1\", \"2\", \"3\", \"4\", \"5\", \"6\", \"7\", \"8\", \"9\", \"10\", \"11\", \"12\", \"13\", \"14\", \"15\", \"16\", \"17\", \"18\", \"19\", \"20\", \"21\", \"22\", \"23\", \"24\", \"25\", \"26\", \"27\", \"28\", \"29\", \"30\", \"31\", \"32\", \"33\", \"34\", \"35\", \"36\", \"37\", \"38\", \"39\", \"40\", \"41\", \"42\", \"43\", \"44\", \"45\", \"46\", \"47\", \"48\", \"49\", \"50\", \"51\", \"52\", \"53\", \"54\", \"55\", \"56\", \"57\", \"58\", \"59\", \"60\", \"61\", \"62\", \"63\", \"64\", \"65\", \"66\", \"67\", \"68\", \"69\", \"70\", \"71\", \"72\", \"73\", \"74\", \"75\", \"76\", \"77\", \"78\", \"79\", \"80\", \"81\", \"82\", \"83\", \"84\", \"85\", \"86\", \"87\", \"88\", \"89\", \"90\", \"91\", \"92\", \"93\", \"94\", \"95\", \"96\", \"97\", \"98\", \"99\", \"100\"], \"type\": \"scatter\", \"x\": [1, 2, 3, 4, 5, 6, 7, 8, 9, 10, 11, 12, 13, 14, 15, 16, 17, 18, 19, 20, 21, 22, 23, 24, 25, 26, 27, 28, 29, 30, 31, 32, 33, 34, 35, 36, 37, 38, 39, 40, 41, 42, 43, 44, 45, 46, 47, 48, 49, 50, 51, 52, 53, 54, 55, 56, 57, 58, 59, 60, 61, 62, 63, 64, 65, 66, 67, 68, 69, 70, 71, 72, 73, 74, 75, 76, 77, 78, 79, 80, 81, 82, 83, 84, 85, 86, 87, 88, 89, 90, 91, 92, 93, 94, 95, 96, 97, 98, 99, 100], \"xaxis\": \"x2\", \"y\": [0.9881548285484314, 0.48962610960006714, 0.41356682777404785, 0.3758141100406647, 0.354888916015625, 0.33774709701538086, 0.32636329531669617, 0.3148499131202698, 0.3083019554615021, 0.30305737257003784, 0.2932942807674408, 0.29098236560821533, 0.28662338852882385, 0.2861362397670746, 0.2764343023300171, 0.279117614030838, 0.2766355276107788, 0.2746489346027374, 0.2744637727737427, 0.2736647427082062, 0.27229198813438416, 0.26590707898139954, 0.26637494564056396, 0.2649766206741333, 0.2644117474555969, 0.2693651020526886, 0.2610512375831604, 0.2614072859287262, 0.2608315646648407, 0.2600991427898407, 0.2609674036502838, 0.26083773374557495, 0.26145437359809875, 0.25575393438339233, 0.25911036133766174, 0.25363433361053467, 0.25738266110420227, 0.2548714578151703, 0.2586093246936798, 0.2589068114757538, 0.2541091740131378, 0.2588275969028473, 0.2519611418247223, 0.2508298456668854, 0.25482919812202454, 0.252646803855896, 0.25307756662368774, 0.25917115807533264, 0.25473305583000183, 0.25117045640945435, 0.2524690628051758, 0.2537153661251068, 0.25387921929359436, 0.25144562125205994, 0.251891165971756, 0.2520931363105774, 0.2573067545890808, 0.25381094217300415, 0.25435376167297363, 0.25142723321914673, 0.254435271024704, 0.25105881690979004, 0.25212615728378296, 0.24861712753772736, 0.24662892520427704, 0.24862153828144073, 0.25331562757492065, 0.25281813740730286, 0.24731017649173737, 0.2512568235397339, 0.2510318160057068, 0.2503143846988678, 0.2528884708881378, 0.24634402990341187, 0.24967794120311737, 0.25009390711784363, 0.24985980987548828, 0.24997453391551971, 0.25093165040016174, 0.24880611896514893, 0.2490079253911972, 0.2553465664386749, 0.2533968389034271, 0.24511373043060303, 0.2536415159702301, 0.24894286692142487, 0.25084322690963745, 0.24992291629314423, 0.2566000819206238, 0.2482023388147354, 0.2435256689786911, 0.2541602551937103, 0.25344154238700867, 0.2528587579727173, 0.2517828643321991, 0.2520205080509186, 0.25034254789352417, 0.252462774515152, 0.2504124939441681, 0.24733401834964752], \"yaxis\": \"y2\"}, {\"marker\": {\"color\": \"Magenta\"}, \"mode\": \"markers+lines\", \"name\": \"Validation loss\", \"text\": [\"1\", \"2\", \"3\", \"4\", \"5\", \"6\", \"7\", \"8\", \"9\", \"10\", \"11\", \"12\", \"13\", \"14\", \"15\", \"16\", \"17\", \"18\", \"19\", \"20\", \"21\", \"22\", \"23\", \"24\", \"25\", \"26\", \"27\", \"28\", \"29\", \"30\", \"31\", \"32\", \"33\", \"34\", \"35\", \"36\", \"37\", \"38\", \"39\", \"40\", \"41\", \"42\", \"43\", \"44\", \"45\", \"46\", \"47\", \"48\", \"49\", \"50\", \"51\", \"52\", \"53\", \"54\", \"55\", \"56\", \"57\", \"58\", \"59\", \"60\", \"61\", \"62\", \"63\", \"64\", \"65\", \"66\", \"67\", \"68\", \"69\", \"70\", \"71\", \"72\", \"73\", \"74\", \"75\", \"76\", \"77\", \"78\", \"79\", \"80\", \"81\", \"82\", \"83\", \"84\", \"85\", \"86\", \"87\", \"88\", \"89\", \"90\", \"91\", \"92\", \"93\", \"94\", \"95\", \"96\", \"97\", \"98\", \"99\", \"100\"], \"type\": \"scatter\", \"x\": [1, 2, 3, 4, 5, 6, 7, 8, 9, 10, 11, 12, 13, 14, 15, 16, 17, 18, 19, 20, 21, 22, 23, 24, 25, 26, 27, 28, 29, 30, 31, 32, 33, 34, 35, 36, 37, 38, 39, 40, 41, 42, 43, 44, 45, 46, 47, 48, 49, 50, 51, 52, 53, 54, 55, 56, 57, 58, 59, 60, 61, 62, 63, 64, 65, 66, 67, 68, 69, 70, 71, 72, 73, 74, 75, 76, 77, 78, 79, 80, 81, 82, 83, 84, 85, 86, 87, 88, 89, 90, 91, 92, 93, 94, 95, 96, 97, 98, 99, 100], \"xaxis\": \"x2\", \"y\": [1.1026250123977661, 1.2377935647964478, 1.157589077949524, 0.9885190725326538, 1.1567161083221436, 1.3986800909042358, 1.2825003862380981, 1.1824520826339722, 1.4242979288101196, 1.0284725427627563, 1.238405704498291, 1.1415972709655762, 1.0467658042907715, 1.0224419832229614, 1.1862268447875977, 1.0509660243988037, 1.0415849685668945, 1.1505318880081177, 1.053768277168274, 1.2410203218460083, 1.3456093072891235, 1.2694690227508545, 1.1686182022094727, 1.1162619590759277, 1.6371132135391235, 1.4991509914398193, 2.1955313682556152, 1.5410497188568115, 1.5748333930969238, 1.7284680604934692, 1.1432931423187256, 1.4254729747772217, 1.2438232898712158, 1.621607780456543, 1.5981824398040771, 1.6151483058929443, 1.4136428833007812, 1.548346996307373, 1.993905782699585, 1.142656683921814, 1.4613624811172485, 1.300269603729248, 1.4924342632293701, 1.3348472118377686, 1.4796292781829834, 1.1564158201217651, 1.4594975709915161, 1.3232190608978271, 1.3635984659194946, 1.2287747859954834, 1.4261600971221924, 1.5988292694091797, 1.5491827726364136, 1.4367531538009644, 1.7775624990463257, 1.6443202495574951, 1.9990109205245972, 2.0425806045532227, 1.7918965816497803, 1.81424081325531, 1.7390609979629517, 1.3877846002578735, 1.2919187545776367, 1.5862959623336792, 1.6244070529937744, 1.8579401969909668, 1.7408168315887451, 2.034754753112793, 1.8706715106964111, 2.062225103378296, 1.5630797147750854, 2.127824306488037, 1.396907091140747, 1.49716055393219, 1.6929482221603394, 1.6140687465667725, 1.6629774570465088, 1.7993803024291992, 1.5512360334396362, 1.3742729425430298, 1.6440889835357666, 1.7476422786712646, 1.4744006395339966, 1.3849304914474487, 1.6070826053619385, 1.6328125, 1.8227403163909912, 1.7932919263839722, 1.6271241903305054, 1.8387906551361084, 1.4830254316329956, 1.4419267177581787, 1.6642342805862427, 1.4250489473342896, 1.829018235206604, 1.6651990413665771, 2.119136333465576, 2.4087607860565186, 1.922776460647583, 2.1400158405303955], \"yaxis\": \"y2\"}],\n",
              "                        {\"annotations\": [{\"font\": {\"size\": 16}, \"showarrow\": false, \"text\": \"Training and validation accuracy\", \"x\": 0.225, \"xanchor\": \"center\", \"xref\": \"paper\", \"y\": 1.0, \"yanchor\": \"bottom\", \"yref\": \"paper\"}, {\"font\": {\"size\": 16}, \"showarrow\": false, \"text\": \"Training and validation loss\", \"x\": 0.775, \"xanchor\": \"center\", \"xref\": \"paper\", \"y\": 1.0, \"yanchor\": \"bottom\", \"yref\": \"paper\"}], \"template\": {\"data\": {\"bar\": [{\"error_x\": {\"color\": \"#2a3f5f\"}, \"error_y\": {\"color\": \"#2a3f5f\"}, \"marker\": {\"line\": {\"color\": \"#E5ECF6\", \"width\": 0.5}}, \"type\": \"bar\"}], \"barpolar\": [{\"marker\": {\"line\": {\"color\": \"#E5ECF6\", \"width\": 0.5}}, \"type\": \"barpolar\"}], \"carpet\": [{\"aaxis\": {\"endlinecolor\": \"#2a3f5f\", \"gridcolor\": \"white\", \"linecolor\": \"white\", \"minorgridcolor\": \"white\", \"startlinecolor\": \"#2a3f5f\"}, \"baxis\": {\"endlinecolor\": \"#2a3f5f\", \"gridcolor\": \"white\", \"linecolor\": \"white\", \"minorgridcolor\": \"white\", \"startlinecolor\": \"#2a3f5f\"}, \"type\": \"carpet\"}], \"choropleth\": [{\"colorbar\": {\"outlinewidth\": 0, \"ticks\": \"\"}, \"type\": \"choropleth\"}], \"contour\": [{\"colorbar\": {\"outlinewidth\": 0, \"ticks\": \"\"}, \"colorscale\": [[0.0, \"#0d0887\"], [0.1111111111111111, \"#46039f\"], [0.2222222222222222, \"#7201a8\"], [0.3333333333333333, \"#9c179e\"], [0.4444444444444444, \"#bd3786\"], [0.5555555555555556, \"#d8576b\"], [0.6666666666666666, \"#ed7953\"], [0.7777777777777778, \"#fb9f3a\"], [0.8888888888888888, \"#fdca26\"], [1.0, \"#f0f921\"]], \"type\": \"contour\"}], \"contourcarpet\": [{\"colorbar\": {\"outlinewidth\": 0, \"ticks\": \"\"}, \"type\": \"contourcarpet\"}], \"heatmap\": [{\"colorbar\": {\"outlinewidth\": 0, \"ticks\": \"\"}, \"colorscale\": [[0.0, \"#0d0887\"], [0.1111111111111111, \"#46039f\"], [0.2222222222222222, \"#7201a8\"], [0.3333333333333333, \"#9c179e\"], [0.4444444444444444, \"#bd3786\"], [0.5555555555555556, \"#d8576b\"], [0.6666666666666666, \"#ed7953\"], [0.7777777777777778, \"#fb9f3a\"], [0.8888888888888888, \"#fdca26\"], [1.0, \"#f0f921\"]], \"type\": \"heatmap\"}], \"heatmapgl\": [{\"colorbar\": {\"outlinewidth\": 0, \"ticks\": \"\"}, \"colorscale\": [[0.0, \"#0d0887\"], [0.1111111111111111, \"#46039f\"], [0.2222222222222222, \"#7201a8\"], [0.3333333333333333, \"#9c179e\"], [0.4444444444444444, \"#bd3786\"], [0.5555555555555556, \"#d8576b\"], [0.6666666666666666, \"#ed7953\"], [0.7777777777777778, \"#fb9f3a\"], [0.8888888888888888, \"#fdca26\"], [1.0, \"#f0f921\"]], \"type\": \"heatmapgl\"}], \"histogram\": [{\"marker\": {\"colorbar\": {\"outlinewidth\": 0, \"ticks\": \"\"}}, \"type\": \"histogram\"}], \"histogram2d\": [{\"colorbar\": {\"outlinewidth\": 0, \"ticks\": \"\"}, \"colorscale\": [[0.0, \"#0d0887\"], [0.1111111111111111, \"#46039f\"], [0.2222222222222222, \"#7201a8\"], [0.3333333333333333, \"#9c179e\"], [0.4444444444444444, \"#bd3786\"], [0.5555555555555556, \"#d8576b\"], [0.6666666666666666, \"#ed7953\"], [0.7777777777777778, \"#fb9f3a\"], [0.8888888888888888, \"#fdca26\"], [1.0, \"#f0f921\"]], \"type\": \"histogram2d\"}], \"histogram2dcontour\": [{\"colorbar\": {\"outlinewidth\": 0, \"ticks\": \"\"}, \"colorscale\": [[0.0, \"#0d0887\"], [0.1111111111111111, \"#46039f\"], [0.2222222222222222, \"#7201a8\"], [0.3333333333333333, \"#9c179e\"], [0.4444444444444444, \"#bd3786\"], [0.5555555555555556, \"#d8576b\"], [0.6666666666666666, \"#ed7953\"], [0.7777777777777778, \"#fb9f3a\"], [0.8888888888888888, \"#fdca26\"], [1.0, \"#f0f921\"]], \"type\": \"histogram2dcontour\"}], \"mesh3d\": [{\"colorbar\": {\"outlinewidth\": 0, \"ticks\": \"\"}, \"type\": \"mesh3d\"}], \"parcoords\": [{\"line\": {\"colorbar\": {\"outlinewidth\": 0, \"ticks\": \"\"}}, \"type\": \"parcoords\"}], \"pie\": [{\"automargin\": true, \"type\": \"pie\"}], \"scatter\": [{\"marker\": {\"colorbar\": {\"outlinewidth\": 0, \"ticks\": \"\"}}, \"type\": \"scatter\"}], \"scatter3d\": [{\"line\": {\"colorbar\": {\"outlinewidth\": 0, \"ticks\": \"\"}}, \"marker\": {\"colorbar\": {\"outlinewidth\": 0, \"ticks\": \"\"}}, \"type\": \"scatter3d\"}], \"scattercarpet\": [{\"marker\": {\"colorbar\": {\"outlinewidth\": 0, \"ticks\": \"\"}}, \"type\": \"scattercarpet\"}], \"scattergeo\": [{\"marker\": {\"colorbar\": {\"outlinewidth\": 0, \"ticks\": \"\"}}, \"type\": \"scattergeo\"}], \"scattergl\": [{\"marker\": {\"colorbar\": {\"outlinewidth\": 0, \"ticks\": \"\"}}, \"type\": \"scattergl\"}], \"scattermapbox\": [{\"marker\": {\"colorbar\": {\"outlinewidth\": 0, \"ticks\": \"\"}}, \"type\": \"scattermapbox\"}], \"scatterpolar\": [{\"marker\": {\"colorbar\": {\"outlinewidth\": 0, \"ticks\": \"\"}}, \"type\": \"scatterpolar\"}], \"scatterpolargl\": [{\"marker\": {\"colorbar\": {\"outlinewidth\": 0, \"ticks\": \"\"}}, \"type\": \"scatterpolargl\"}], \"scatterternary\": [{\"marker\": {\"colorbar\": {\"outlinewidth\": 0, \"ticks\": \"\"}}, \"type\": \"scatterternary\"}], \"surface\": [{\"colorbar\": {\"outlinewidth\": 0, \"ticks\": \"\"}, \"colorscale\": [[0.0, \"#0d0887\"], [0.1111111111111111, \"#46039f\"], [0.2222222222222222, \"#7201a8\"], [0.3333333333333333, \"#9c179e\"], [0.4444444444444444, \"#bd3786\"], [0.5555555555555556, \"#d8576b\"], [0.6666666666666666, \"#ed7953\"], [0.7777777777777778, \"#fb9f3a\"], [0.8888888888888888, \"#fdca26\"], [1.0, \"#f0f921\"]], \"type\": \"surface\"}], \"table\": [{\"cells\": {\"fill\": {\"color\": \"#EBF0F8\"}, \"line\": {\"color\": \"white\"}}, \"header\": {\"fill\": {\"color\": \"#C8D4E3\"}, \"line\": {\"color\": \"white\"}}, \"type\": \"table\"}]}, \"layout\": {\"annotationdefaults\": {\"arrowcolor\": \"#2a3f5f\", \"arrowhead\": 0, \"arrowwidth\": 1}, \"coloraxis\": {\"colorbar\": {\"outlinewidth\": 0, \"ticks\": \"\"}}, \"colorscale\": {\"diverging\": [[0, \"#8e0152\"], [0.1, \"#c51b7d\"], [0.2, \"#de77ae\"], [0.3, \"#f1b6da\"], [0.4, \"#fde0ef\"], [0.5, \"#f7f7f7\"], [0.6, \"#e6f5d0\"], [0.7, \"#b8e186\"], [0.8, \"#7fbc41\"], [0.9, \"#4d9221\"], [1, \"#276419\"]], \"sequential\": [[0.0, \"#0d0887\"], [0.1111111111111111, \"#46039f\"], [0.2222222222222222, \"#7201a8\"], [0.3333333333333333, \"#9c179e\"], [0.4444444444444444, \"#bd3786\"], [0.5555555555555556, \"#d8576b\"], [0.6666666666666666, \"#ed7953\"], [0.7777777777777778, \"#fb9f3a\"], [0.8888888888888888, \"#fdca26\"], [1.0, \"#f0f921\"]], \"sequentialminus\": [[0.0, \"#0d0887\"], [0.1111111111111111, \"#46039f\"], [0.2222222222222222, \"#7201a8\"], [0.3333333333333333, \"#9c179e\"], [0.4444444444444444, \"#bd3786\"], [0.5555555555555556, \"#d8576b\"], [0.6666666666666666, \"#ed7953\"], [0.7777777777777778, \"#fb9f3a\"], [0.8888888888888888, \"#fdca26\"], [1.0, \"#f0f921\"]]}, \"colorway\": [\"#636efa\", \"#EF553B\", \"#00cc96\", \"#ab63fa\", \"#FFA15A\", \"#19d3f3\", \"#FF6692\", \"#B6E880\", \"#FF97FF\", \"#FECB52\"], \"font\": {\"color\": \"#2a3f5f\"}, \"geo\": {\"bgcolor\": \"white\", \"lakecolor\": \"white\", \"landcolor\": \"#E5ECF6\", \"showlakes\": true, \"showland\": true, \"subunitcolor\": \"white\"}, \"hoverlabel\": {\"align\": \"left\"}, \"hovermode\": \"closest\", \"mapbox\": {\"style\": \"light\"}, \"paper_bgcolor\": \"white\", \"plot_bgcolor\": \"#E5ECF6\", \"polar\": {\"angularaxis\": {\"gridcolor\": \"white\", \"linecolor\": \"white\", \"ticks\": \"\"}, \"bgcolor\": \"#E5ECF6\", \"radialaxis\": {\"gridcolor\": \"white\", \"linecolor\": \"white\", \"ticks\": \"\"}}, \"scene\": {\"xaxis\": {\"backgroundcolor\": \"#E5ECF6\", \"gridcolor\": \"white\", \"gridwidth\": 2, \"linecolor\": \"white\", \"showbackground\": true, \"ticks\": \"\", \"zerolinecolor\": \"white\"}, \"yaxis\": {\"backgroundcolor\": \"#E5ECF6\", \"gridcolor\": \"white\", \"gridwidth\": 2, \"linecolor\": \"white\", \"showbackground\": true, \"ticks\": \"\", \"zerolinecolor\": \"white\"}, \"zaxis\": {\"backgroundcolor\": \"#E5ECF6\", \"gridcolor\": \"white\", \"gridwidth\": 2, \"linecolor\": \"white\", \"showbackground\": true, \"ticks\": \"\", \"zerolinecolor\": \"white\"}}, \"shapedefaults\": {\"line\": {\"color\": \"#2a3f5f\"}}, \"ternary\": {\"aaxis\": {\"gridcolor\": \"white\", \"linecolor\": \"white\", \"ticks\": \"\"}, \"baxis\": {\"gridcolor\": \"white\", \"linecolor\": \"white\", \"ticks\": \"\"}, \"bgcolor\": \"#E5ECF6\", \"caxis\": {\"gridcolor\": \"white\", \"linecolor\": \"white\", \"ticks\": \"\"}}, \"title\": {\"x\": 0.05}, \"xaxis\": {\"automargin\": true, \"gridcolor\": \"white\", \"linecolor\": \"white\", \"ticks\": \"\", \"title\": {\"standoff\": 15}, \"zerolinecolor\": \"white\", \"zerolinewidth\": 2}, \"yaxis\": {\"automargin\": true, \"gridcolor\": \"white\", \"linecolor\": \"white\", \"ticks\": \"\", \"title\": {\"standoff\": 15}, \"zerolinecolor\": \"white\", \"zerolinewidth\": 2}}}, \"xaxis\": {\"anchor\": \"y\", \"domain\": [0.0, 0.45], \"title\": {\"text\": \"Epoch\"}}, \"xaxis2\": {\"anchor\": \"y2\", \"domain\": [0.55, 1.0], \"title\": {\"text\": \"Epoch\"}}, \"yaxis\": {\"anchor\": \"x\", \"domain\": [0.0, 1.0], \"range\": [0, 1], \"title\": {\"text\": \"Accuracy\"}}, \"yaxis2\": {\"anchor\": \"x2\", \"domain\": [0.0, 1.0], \"range\": [0, 1], \"title\": {\"text\": \"Loss\"}}},\n",
              "                        {\"responsive\": true}\n",
              "                    ).then(function(){\n",
              "                            \n",
              "var gd = document.getElementById('1beebee4-2f4c-4930-85b9-249e001a8903');\n",
              "var x = new MutationObserver(function (mutations, observer) {{\n",
              "        var display = window.getComputedStyle(gd).display;\n",
              "        if (!display || display === 'none') {{\n",
              "            console.log([gd, 'removed!']);\n",
              "            Plotly.purge(gd);\n",
              "            observer.disconnect();\n",
              "        }}\n",
              "}});\n",
              "\n",
              "// Listen for the removal of the full notebook cells\n",
              "var notebookContainer = gd.closest('#notebook-container');\n",
              "if (notebookContainer) {{\n",
              "    x.observe(notebookContainer, {childList: true});\n",
              "}}\n",
              "\n",
              "// Listen for the clearing of the current output cell\n",
              "var outputEl = gd.closest('.output');\n",
              "if (outputEl) {{\n",
              "    x.observe(outputEl, {childList: true});\n",
              "}}\n",
              "\n",
              "                        })\n",
              "                };\n",
              "                \n",
              "            </script>\n",
              "        </div>\n",
              "</body>\n",
              "</html>"
            ]
          },
          "metadata": {
            "tags": []
          }
        }
      ]
    }
  ]
}